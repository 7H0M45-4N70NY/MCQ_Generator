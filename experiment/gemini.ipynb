{
 "cells": [
  {
   "cell_type": "code",
   "execution_count": 1,
   "metadata": {},
   "outputs": [
    {
     "name": "stderr",
     "output_type": "stream",
     "text": [
      "e:\\SOFTWARES\\Anaconda3\\envs\\llm\\Lib\\site-packages\\tqdm\\auto.py:21: TqdmWarning: IProgress not found. Please update jupyter and ipywidgets. See https://ipywidgets.readthedocs.io/en/stable/user_install.html\n",
      "  from .autonotebook import tqdm as notebook_tqdm\n"
     ]
    }
   ],
   "source": [
    "import os\n",
    "from dotenv import load_dotenv\n",
    "# load_dotenv() os.getenv(\"GOOGLE_API_KEY\")\n",
    "import google.generativeai as genai\n",
    "import json\n",
    "import pandas as pd\n",
    "import traceback"
   ]
  },
  {
   "cell_type": "code",
   "execution_count": 2,
   "metadata": {},
   "outputs": [],
   "source": [
    "load_dotenv()\n",
    "\n",
    "genai.configure(api_key=os.getenv(\"GOOGLE_API_KEY\"))\n",
    "model = genai.GenerativeModel('gemini-pro')\n"
   ]
  },
  {
   "cell_type": "code",
   "execution_count": 3,
   "metadata": {},
   "outputs": [],
   "source": [
    "response=model.generate_content(\"Who is the fouder of google what was the founders first discovery how was google formed\")"
   ]
  },
  {
   "cell_type": "code",
   "execution_count": 4,
   "metadata": {},
   "outputs": [
    {
     "name": "stdout",
     "output_type": "stream",
     "text": [
      "**Founders of Google:**\n",
      "\n",
      "**1. Larry Page:**\n",
      "\n",
      "   * Born on March 26, 1973, in East Lansing, Michigan.\n",
      "   * Earned a Bachelor of Science degree in Computer Engineering from the University of Michigan.\n",
      "   * Completed a Master of Science degree in Computer Science from Stanford University.\n",
      "\n",
      "**2. Sergey Brin:**\n",
      "\n",
      "   * Born on August 21, 1973, in Moscow, Russia.\n",
      "   * Immigrated to the United States with his family at the age of 6.\n",
      "   * Earned a Bachelor of Science degree in Mathematics and Computer Science from the University of Maryland, College Park.\n",
      "   * Completed a Master of Science degree in Computer Science from Stanford University.\n",
      "\n",
      "**First Discovery:**\n",
      "\n",
      "The founders' first discovery as graduate students at Stanford University was the creation of a search engine called \"BackRub.\" This search engine used a novel algorithm called PageRank, which ranked web pages based on their importance and relevance to a search query.\n",
      "\n",
      "**Formation of Google:**\n",
      "\n",
      "* In 1998, Page and Brin formally incorporated Google Inc. in California.\n",
      "* The name \"Google\" was a play on the mathematical term \"googol,\" which represents the number 1 followed by 100 zeros. This name reflected their goal of organizing a vast amount of information available on the World Wide Web.\n",
      "* The initial funding for Google came from friends and family, as well as a $100,000 investment from Sun Microsystems co-founder Andy Bechtolsheim.\n",
      "* The company's first office was located in a garage in Menlo Park, California, which became known as the \"Google Garage.\"\n",
      "* Over the years, Google expanded rapidly, developing new products and services, such as Gmail, YouTube, and Android, and becoming one of the most influential technology companies in the world.\n"
     ]
    }
   ],
   "source": [
    "print(response.text)"
   ]
  },
  {
   "cell_type": "code",
   "execution_count": 5,
   "metadata": {},
   "outputs": [],
   "source": [
    "# from langchain.llms import OpenAI\n",
    "from langchain.prompts import PromptTemplate\n",
    "from langchain.chains import LLMChain\n",
    "from langchain.chains import SequentialChain\n",
    "# from langchain.callbacks import get_openai_callback\n",
    "import PyPDF2"
   ]
  },
  {
   "cell_type": "code",
   "execution_count": 8,
   "metadata": {},
   "outputs": [],
   "source": [
    "file_paths=r\"G:\\LILTHOMA\\Learn\\LLM\\MCQ_Generator_using_gemini_pro\\NIPS-2017-attention-is-all-you-need-Paper.pdf\"\n",
    "pdf_reader=PyPDF2.PdfReader(file_paths)"
   ]
  },
  {
   "cell_type": "code",
   "execution_count": 9,
   "metadata": {},
   "outputs": [
    {
     "data": {
      "text/plain": [
       "<PyPDF2._reader.PdfReader at 0x16934ac4150>"
      ]
     },
     "execution_count": 9,
     "metadata": {},
     "output_type": "execute_result"
    }
   ],
   "source": [
    "pdf_reader"
   ]
  },
  {
   "cell_type": "code",
   "execution_count": 7,
   "metadata": {},
   "outputs": [],
   "source": [
    "from langchain_google_genai import GoogleGenerativeAI\n",
    "api_key=os.getenv(\"GOOGLE_API_KEY\")"
   ]
  },
  {
   "cell_type": "code",
   "execution_count": 8,
   "metadata": {},
   "outputs": [
    {
     "name": "stdout",
     "output_type": "stream",
     "text": [
      "**Pros of Python**\n",
      "\n",
      "* **Easy to learn:** Python is a very easy language to learn, even for beginners. The syntax is simple and straightforward, and there are plenty of resources available to help you get started.\n",
      "* **Versatile:** Python can be used for a wide variety of tasks, from simple scripts to complex applications. It is also a good choice for beginners because it can be used for both web development and desktop applications.\n",
      "* **Highly portable:** Python is a very portable language, which means that it can be run on a variety of platforms, including Windows, Mac, and Linux. This makes it a good choice for developing applications that need to be deployed on multiple platforms.\n",
      "* **Open source:** Python is an open source language, which means that it is free to use and modify. This makes it a good choice for developers who want to have complete control over their code.\n",
      "* **Large community:** Python has a large and active community of users and developers, which means that there is plenty of support available if you need it.\n",
      "\n",
      "**Cons of Python**\n",
      "\n",
      "* **Slow:** Python is not as fast as some other programming languages, such as C++ or Java. This can be a problem for applications that require a lot of processing power.\n",
      "* **Not as efficient as compiled languages:** Python is an interpreted language, which means that it is slower than compiled languages. This can be a problem for applications that need to perform a lot of calculations.\n",
      "* **Less secure than compiled languages:** Python is not as secure as compiled languages, such as C++ or Java. This is because it is more difficult to find and fix security vulnerabilities in interpreted languages.\n",
      "\n",
      "Overall, Python is a good choice for beginners and experienced developers alike. It is easy to learn, versatile, and portable. However, it is not as fast or efficient as some other programming languages, and it is less secure.\n"
     ]
    }
   ],
   "source": [
    "llm = GoogleGenerativeAI(model=\"models/text-bison-001\", google_api_key=api_key)\n",
    "print(\n",
    "    llm.invoke(\n",
    "        \"What are some of the pros and cons of Python as a programming language?\"\n",
    "    )\n",
    ")"
   ]
  },
  {
   "cell_type": "code",
   "execution_count": 9,
   "metadata": {},
   "outputs": [],
   "source": [
    "RESPONSE_JSON = {\n",
    "    \"1\": {\n",
    "        \"mcq\": \"multiple choice question\",\n",
    "        \"options\": {\n",
    "            \"a\": \"choice here\",\n",
    "            \"b\": \"choice here\",\n",
    "            \"c\": \"choice here\",\n",
    "            \"d\": \"choice here\",\n",
    "        },\n",
    "        \"correct\": \"correct answer\",\n",
    "    },\n",
    "    \"2\": {\n",
    "        \"mcq\": \"multiple choice question\",\n",
    "        \"options\": {\n",
    "            \"a\": \"choice here\",\n",
    "            \"b\": \"choice here\",\n",
    "            \"c\": \"choice here\",\n",
    "            \"d\": \"choice here\",\n",
    "        },\n",
    "        \"correct\": \"correct answer\",\n",
    "    },\n",
    "    \"3\": {\n",
    "        \"mcq\": \"multiple choice question\",\n",
    "        \"options\": {\n",
    "            \"a\": \"choice here\",\n",
    "            \"b\": \"choice here\",\n",
    "            \"c\": \"choice here\",\n",
    "            \"d\": \"choice here\",\n",
    "        },\n",
    "        \"correct\": \"correct answer\",\n",
    "    },\n",
    "}"
   ]
  },
  {
   "cell_type": "code",
   "execution_count": 10,
   "metadata": {},
   "outputs": [],
   "source": [
    "TEMPLATE=\"\"\"\n",
    "Text:{text}\n",
    "You are an expert MCQ maker. Given the above text, it is your job to \\\n",
    "create a quiz  of {number} multiple choice questions for {subject} students in {tone} tone. \n",
    "Make sure the questions are not repeated and check all the questions to be conforming the text as well.\n",
    "Make sure to format your response like  RESPONSE_JSON below  and use it as a guide. \\\n",
    "Ensure to make {number} MCQs\n",
    "### RESPONSE_JSON\n",
    "{response_json}\n",
    "\n",
    "\"\"\""
   ]
  },
  {
   "cell_type": "code",
   "execution_count": 11,
   "metadata": {},
   "outputs": [],
   "source": [
    "quiz_generation_prompt = PromptTemplate(\n",
    "    input_variables=[\"text\", \"number\", \"subject\", \"tone\", \"response_json\"],\n",
    "    template=TEMPLATE\n",
    "    )"
   ]
  },
  {
   "cell_type": "code",
   "execution_count": 12,
   "metadata": {},
   "outputs": [],
   "source": [
    "quiz_chain=LLMChain(llm=llm, prompt=quiz_generation_prompt, output_key=\"quiz\", verbose=True)"
   ]
  },
  {
   "cell_type": "code",
   "execution_count": 13,
   "metadata": {},
   "outputs": [],
   "source": [
    "\n",
    "TEMPLATE2=\"\"\"\n",
    "You are an expert english grammarian and writer. Given a Multiple Choice Quiz for {subject} students.\\\n",
    "You need to evaluate the complexity of the question and give a complete analysis of the quiz. Only use at max 50 words for complexity analysis. \n",
    "if the quiz is not at per with the cognitive and analytical abilities of the students,\\\n",
    "update the quiz questions which needs to be changed and change the tone such that it perfectly fits the student abilities\n",
    "Quiz_MCQs:\n",
    "{quiz}\n",
    "\n",
    "Check from an expert English Writer of the above quiz:\n",
    "\"\"\""
   ]
  },
  {
   "cell_type": "code",
   "execution_count": 14,
   "metadata": {},
   "outputs": [],
   "source": [
    "quiz_evaluation_prompt=PromptTemplate(input_variables=[\"subject\", \"quiz\"], template=TEMPLATE)"
   ]
  },
  {
   "cell_type": "code",
   "execution_count": 15,
   "metadata": {},
   "outputs": [],
   "source": [
    "review_chain=LLMChain(llm=llm, prompt=quiz_evaluation_prompt, output_key=\"review\", verbose=True)"
   ]
  },
  {
   "cell_type": "code",
   "execution_count": 16,
   "metadata": {},
   "outputs": [],
   "source": [
    "#Sequential chain using output from quiz_chain as input for review _cahin\n",
    "generate_evaluate_chain=SequentialChain(chains=[quiz_chain, review_chain], input_variables=[\"text\", \"number\", \"subject\", \"tone\", \"response_json\"],\n",
    "                                        output_variables=[\"quiz\", \"review\"], verbose=True,)"
   ]
  },
  {
   "cell_type": "code",
   "execution_count": 17,
   "metadata": {},
   "outputs": [
    {
     "data": {
      "text/plain": [
       "'G:\\\\LILTHOMA\\\\Learn\\\\LLM\\\\MCQ_Generator_using_gemini_pro\\\\texts.txt'"
      ]
     },
     "execution_count": 17,
     "metadata": {},
     "output_type": "execute_result"
    }
   ],
   "source": [
    "file_path=r\"G:\\LILTHOMA\\Learn\\LLM\\MCQ_Generator_using_gemini_pro\\texts.txt\"\n",
    "file_path"
   ]
  },
  {
   "cell_type": "code",
   "execution_count": 18,
   "metadata": {},
   "outputs": [],
   "source": [
    "with open(file_path, 'r') as file:\n",
    "    TEXT = file.read()"
   ]
  },
  {
   "cell_type": "code",
   "execution_count": 19,
   "metadata": {},
   "outputs": [
    {
     "data": {
      "text/plain": [
       "'{\"1\": {\"mcq\": \"multiple choice question\", \"options\": {\"a\": \"choice here\", \"b\": \"choice here\", \"c\": \"choice here\", \"d\": \"choice here\"}, \"correct\": \"correct answer\"}, \"2\": {\"mcq\": \"multiple choice question\", \"options\": {\"a\": \"choice here\", \"b\": \"choice here\", \"c\": \"choice here\", \"d\": \"choice here\"}, \"correct\": \"correct answer\"}, \"3\": {\"mcq\": \"multiple choice question\", \"options\": {\"a\": \"choice here\", \"b\": \"choice here\", \"c\": \"choice here\", \"d\": \"choice here\"}, \"correct\": \"correct answer\"}}'"
      ]
     },
     "execution_count": 19,
     "metadata": {},
     "output_type": "execute_result"
    }
   ],
   "source": [
    "# Serialize the Python dictionary into a JSON-formatted string\n",
    "json.dumps(RESPONSE_JSON)"
   ]
  },
  {
   "cell_type": "code",
   "execution_count": 20,
   "metadata": {},
   "outputs": [],
   "source": [
    "NUMBER=5 \n",
    "SUBJECT=\"machine learning\"\n",
    "TONE=\"hard\""
   ]
  },
  {
   "cell_type": "code",
   "execution_count": 21,
   "metadata": {},
   "outputs": [
    {
     "name": "stdout",
     "output_type": "stream",
     "text": [
      "\n",
      "\n",
      "\u001b[1m> Entering new SequentialChain chain...\u001b[0m\n",
      "\n",
      "\n",
      "\u001b[1m> Entering new LLMChain chain...\u001b[0m\n",
      "Prompt after formatting:\n",
      "\u001b[32;1m\u001b[1;3m\n",
      "Text:Supervised Machine Learning\n",
      "Supervised learning is the types of machine learning in which machines are trained using well \"labelled\" training data, and on basis of that data, machines predict the output. The labelled data means some input data is already tagged with the correct output.\n",
      "\n",
      "In supervised learning, the training data provided to the machines work as the supervisor that teaches the machines to predict the output correctly. It applies the same concept as a student learns in the supervision of the teacher.\n",
      "\n",
      "Supervised learning is a process of providing input data as well as correct output data to the machine learning model. The aim of a supervised learning algorithm is to find a mapping function to map the input variable(x) with the output variable(y).\n",
      "\n",
      "In the real-world, supervised learning can be used for Risk Assessment, Image classification, Fraud Detection, spam filtering, etc.\n",
      "You are an expert MCQ maker. Given the above text, it is your job to create a quiz  of 5 multiple choice questions for machine learning students in hard tone. \n",
      "Make sure the questions are not repeated and check all the questions to be conforming the text as well.\n",
      "Make sure to format your response like  RESPONSE_JSON below  and use it as a guide. Ensure to make 5 MCQs\n",
      "### RESPONSE_JSON\n",
      "{\"1\": {\"mcq\": \"multiple choice question\", \"options\": {\"a\": \"choice here\", \"b\": \"choice here\", \"c\": \"choice here\", \"d\": \"choice here\"}, \"correct\": \"correct answer\"}, \"2\": {\"mcq\": \"multiple choice question\", \"options\": {\"a\": \"choice here\", \"b\": \"choice here\", \"c\": \"choice here\", \"d\": \"choice here\"}, \"correct\": \"correct answer\"}, \"3\": {\"mcq\": \"multiple choice question\", \"options\": {\"a\": \"choice here\", \"b\": \"choice here\", \"c\": \"choice here\", \"d\": \"choice here\"}, \"correct\": \"correct answer\"}}\n",
      "\n",
      "\u001b[0m\n"
     ]
    },
    {
     "name": "stdout",
     "output_type": "stream",
     "text": [
      "\n",
      "\u001b[1m> Finished chain.\u001b[0m\n",
      "\n",
      "\n",
      "\u001b[1m> Entering new LLMChain chain...\u001b[0m\n",
      "Prompt after formatting:\n",
      "\u001b[32;1m\u001b[1;3m\n",
      "Text:Supervised Machine Learning\n",
      "Supervised learning is the types of machine learning in which machines are trained using well \"labelled\" training data, and on basis of that data, machines predict the output. The labelled data means some input data is already tagged with the correct output.\n",
      "\n",
      "In supervised learning, the training data provided to the machines work as the supervisor that teaches the machines to predict the output correctly. It applies the same concept as a student learns in the supervision of the teacher.\n",
      "\n",
      "Supervised learning is a process of providing input data as well as correct output data to the machine learning model. The aim of a supervised learning algorithm is to find a mapping function to map the input variable(x) with the output variable(y).\n",
      "\n",
      "In the real-world, supervised learning can be used for Risk Assessment, Image classification, Fraud Detection, spam filtering, etc.\n",
      "You are an expert MCQ maker. Given the above text, it is your job to create a quiz  of 5 multiple choice questions for machine learning students in hard tone. \n",
      "Make sure the questions are not repeated and check all the questions to be conforming the text as well.\n",
      "Make sure to format your response like  RESPONSE_JSON below  and use it as a guide. Ensure to make 5 MCQs\n",
      "### RESPONSE_JSON\n",
      "{\"1\": {\"mcq\": \"multiple choice question\", \"options\": {\"a\": \"choice here\", \"b\": \"choice here\", \"c\": \"choice here\", \"d\": \"choice here\"}, \"correct\": \"correct answer\"}, \"2\": {\"mcq\": \"multiple choice question\", \"options\": {\"a\": \"choice here\", \"b\": \"choice here\", \"c\": \"choice here\", \"d\": \"choice here\"}, \"correct\": \"correct answer\"}, \"3\": {\"mcq\": \"multiple choice question\", \"options\": {\"a\": \"choice here\", \"b\": \"choice here\", \"c\": \"choice here\", \"d\": \"choice here\"}, \"correct\": \"correct answer\"}}\n",
      "\n",
      "\u001b[0m\n",
      "\n",
      "\u001b[1m> Finished chain.\u001b[0m\n",
      "\n",
      "\u001b[1m> Finished chain.\u001b[0m\n"
     ]
    }
   ],
   "source": [
    "response=generate_evaluate_chain(\n",
    "        {\n",
    "            \"text\": TEXT,\n",
    "            \"number\": NUMBER,\n",
    "            \"subject\":SUBJECT,\n",
    "            \"tone\": TONE,\n",
    "            \"response_json\": json.dumps(RESPONSE_JSON)\n",
    "        }\n",
    "        )"
   ]
  },
  {
   "cell_type": "code",
   "execution_count": 22,
   "metadata": {},
   "outputs": [
    {
     "data": {
      "text/plain": [
       "{'text': 'Supervised Machine Learning\\nSupervised learning is the types of machine learning in which machines are trained using well \"labelled\" training data, and on basis of that data, machines predict the output. The labelled data means some input data is already tagged with the correct output.\\n\\nIn supervised learning, the training data provided to the machines work as the supervisor that teaches the machines to predict the output correctly. It applies the same concept as a student learns in the supervision of the teacher.\\n\\nSupervised learning is a process of providing input data as well as correct output data to the machine learning model. The aim of a supervised learning algorithm is to find a mapping function to map the input variable(x) with the output variable(y).\\n\\nIn the real-world, supervised learning can be used for Risk Assessment, Image classification, Fraud Detection, spam filtering, etc.',\n",
       " 'number': 5,\n",
       " 'subject': 'machine learning',\n",
       " 'tone': 'hard',\n",
       " 'response_json': '{\"1\": {\"mcq\": \"multiple choice question\", \"options\": {\"a\": \"choice here\", \"b\": \"choice here\", \"c\": \"choice here\", \"d\": \"choice here\"}, \"correct\": \"correct answer\"}, \"2\": {\"mcq\": \"multiple choice question\", \"options\": {\"a\": \"choice here\", \"b\": \"choice here\", \"c\": \"choice here\", \"d\": \"choice here\"}, \"correct\": \"correct answer\"}, \"3\": {\"mcq\": \"multiple choice question\", \"options\": {\"a\": \"choice here\", \"b\": \"choice here\", \"c\": \"choice here\", \"d\": \"choice here\"}, \"correct\": \"correct answer\"}}',\n",
       " 'quiz': '```json\\n{\\n    \"1\": {\\n        \"mcq\": \"In supervised learning, the training data is labeled. What is the other name of labeled data?\",\\n        \"options\": {\\n            \"a\": \"unlabeled data\",\\n            \"b\": \"labeled data\",\\n            \"c\": \"training data\",\\n            \"d\": \"testing data\"\\n        },\\n        \"correct\": \"b\"\\n    },\\n    \"2\": {\\n        \"mcq\": \"In supervised learning, the model is trained using labeled data. What is the goal of the model?\",\\n        \"options\": {\\n            \"a\": \"to learn the mapping function\",\\n            \"b\": \"to predict the output\",\\n            \"c\": \"to find the correct answer\",\\n            \"d\": \"to find the correct output\"\\n        },\\n        \"correct\": \"a\"\\n    },\\n    \"3\": {\\n        \"mcq\": \"Supervised learning is used for various applications. Which of the following is not an application of supervised learning?\",\\n        \"options\": {\\n            \"a\": \"Risk assessment\",\\n            \"b\": \"Image classification\",\\n            \"c\": \"Fraud detection\",\\n            \"d\": \"Natural Language Processing\"\\n        },\\n        \"correct\": \"d\"\\n    },\\n    \"4\": {\\n        \"mcq\": \"Supervised learning is a type of machine learning. What is the other type of machine learning?\",\\n        \"options\": {\\n            \"a\": \"Unsupervised learning\",\\n            \"b\": \"Reinforcement learning\",\\n            \"c\": \"Deep learning\",\\n            \"d\": \"All of the above\"\\n        },\\n        \"correct\": \"d\"\\n    },\\n    \"5\": {\\n        \"mcq\": \"In supervised learning, the model is trained using labeled data. What is the labeled data used for?\",\\n        \"options\": {\\n            \"a\": \"to evaluate the model\",\\n            \"b\": \"to train the model\",\\n            \"c\": \"to test the model\",\\n            \"d\": \"to validate the model\"\\n        },\\n        \"correct\": \"b\"\\n    }\\n}\\n```',\n",
       " 'review': '```json\\n{\\n  \"1\": {\\n    \"mcq\": \"Supervised learning is a type of machine learning in which machines are trained using well-labeled training data. The labeled data means some input data is already tagged with the correct output. Which of the following is not a type of supervised learning: (A) Regression (B) Classification (C) Clustering (D) Reinforcement learning\",\\n    \"options\": {\\n      \"a\": \"Regression\",\\n      \"b\": \"Classification\",\\n      \"c\": \"Clustering\",\\n      \"d\": \"Reinforcement learning\"\\n    },\\n    \"correct\": \"d\"\\n  },\\n  \"2\": {\\n    \"mcq\": \"Supervised learning is a process of providing input data as well as correct output data to the machine learning model. The aim of a supervised learning algorithm is to find a mapping function to map the input variable(x) with the output variable(y). The input variable is also known as: (A) Feature (B) Label (C) Predictor (D) Target\",\\n    \"options\": {\\n      \"a\": \"Feature\",\\n      \"b\": \"Label\",\\n      \"c\": \"Predictor\",\\n      \"d\": \"Target\"\\n    },\\n    \"correct\": \"a\"\\n  },\\n  \"3\": {\\n    \"mcq\": \"Supervised learning algorithms can be used for a variety of tasks, including risk assessment, image classification, fraud detection, and spam filtering. Which of the following is not a task that supervised learning algorithms can be used for: (A) Predicting the weather (B) Predicting the stock market (C) Determining the gender of a person (D) Determining the sentiment of a tweet\",\\n    \"options\": {\\n      \"a\": \"Predicting the weather\",\\n      \"b\": \"Predicting the stock market\",\\n      \"c\": \"Determining the gender of a person\",\\n      \"d\": \"Determining the sentiment of a tweet\"\\n    },\\n    \"correct\": \"a\"\\n  },\\n  \"4\": {\\n    \"mcq\": \"In supervised learning, the training data provided to the machines work as the supervisor that teaches the machines to predict the output correctly. It applies the same concept as a student learns in the supervision of the teacher. Which of the following is not an example of supervised learning: (A) A student learning from a textbook (B) A student learning from a teacher (C) A student learning from a tutor (D) A student learning from a video\",\\n    \"options\": {\\n      \"a\": \"A student learning from a textbook\",\\n      \"b\": \"A student learning from a teacher\",\\n      \"c\": \"A student learning from a tutor\",\\n      \"d\": \"A student learning from a video\"\\n    },\\n    \"correct\": \"d\"\\n  },\\n  \"5\": {\\n    \"mcq\": \"In the real-world, supervised learning can be used for risk assessment, image classification, fraud detection, and spam filtering. Which of the following is not a real-world application of supervised learning: (A) Predicting the weather (B) Predicting the stock market (C) Determining the gender of a person (D) Determining the sentiment of a tweet\",\\n    \"options\": {\\n      \"a\": \"Predicting the weather\",\\n      \"b\": \"Predicting the stock market\",\\n      \"c\": \"Determining the gender of a person\",\\n      \"d\": \"Determining the sentiment of a tweet\"\\n    },\\n    \"correct\": \"a\"\\n  }\\n}\\n```'}"
      ]
     },
     "execution_count": 22,
     "metadata": {},
     "output_type": "execute_result"
    }
   ],
   "source": [
    "response"
   ]
  },
  {
   "cell_type": "code",
   "execution_count": 24,
   "metadata": {},
   "outputs": [],
   "source": [
    "quiz=response.get(\"quiz\")\n",
    "quiz=quiz.replace('```json\\n', '').replace('```', '')\n"
   ]
  },
  {
   "cell_type": "code",
   "execution_count": 25,
   "metadata": {},
   "outputs": [
    {
     "data": {
      "text/plain": [
       "{'1': {'mcq': 'In supervised learning, the training data is labeled. What is the other name of labeled data?',\n",
       "  'options': {'a': 'unlabeled data',\n",
       "   'b': 'labeled data',\n",
       "   'c': 'training data',\n",
       "   'd': 'testing data'},\n",
       "  'correct': 'b'},\n",
       " '2': {'mcq': 'In supervised learning, the model is trained using labeled data. What is the goal of the model?',\n",
       "  'options': {'a': 'to learn the mapping function',\n",
       "   'b': 'to predict the output',\n",
       "   'c': 'to find the correct answer',\n",
       "   'd': 'to find the correct output'},\n",
       "  'correct': 'a'},\n",
       " '3': {'mcq': 'Supervised learning is used for various applications. Which of the following is not an application of supervised learning?',\n",
       "  'options': {'a': 'Risk assessment',\n",
       "   'b': 'Image classification',\n",
       "   'c': 'Fraud detection',\n",
       "   'd': 'Natural Language Processing'},\n",
       "  'correct': 'd'},\n",
       " '4': {'mcq': 'Supervised learning is a type of machine learning. What is the other type of machine learning?',\n",
       "  'options': {'a': 'Unsupervised learning',\n",
       "   'b': 'Reinforcement learning',\n",
       "   'c': 'Deep learning',\n",
       "   'd': 'All of the above'},\n",
       "  'correct': 'd'},\n",
       " '5': {'mcq': 'In supervised learning, the model is trained using labeled data. What is the labeled data used for?',\n",
       "  'options': {'a': 'to evaluate the model',\n",
       "   'b': 'to train the model',\n",
       "   'c': 'to test the model',\n",
       "   'd': 'to validate the model'},\n",
       "  'correct': 'b'}}"
      ]
     },
     "execution_count": 25,
     "metadata": {},
     "output_type": "execute_result"
    }
   ],
   "source": [
    "quiz=json.loads(quiz)\n",
    "quiz"
   ]
  },
  {
   "cell_type": "code",
   "execution_count": 28,
   "metadata": {},
   "outputs": [
    {
     "name": "stdout",
     "output_type": "stream",
     "text": [
      "a: unlabeled data | b: labeled data | c: training data | d: testing data\n",
      "a: to learn the mapping function | b: to predict the output | c: to find the correct answer | d: to find the correct output\n",
      "a: Risk assessment | b: Image classification | c: Fraud detection | d: Natural Language Processing\n",
      "a: Unsupervised learning | b: Reinforcement learning | c: Deep learning | d: All of the above\n",
      "a: to evaluate the model | b: to train the model | c: to test the model | d: to validate the model\n"
     ]
    }
   ],
   "source": [
    "for key,value in quiz.items():\n",
    "    mcq=value['mcq']\n",
    "    options = \" | \".join(\n",
    "        [\n",
    "            f\"{option}: {option_value}\"\n",
    "            for option, option_value in value[\"options\"].items()\n",
    "            ]\n",
    "        )\n",
    "    print(options)"
   ]
  },
  {
   "cell_type": "code",
   "execution_count": 29,
   "metadata": {},
   "outputs": [],
   "source": [
    "quiz_table_data = []\n",
    "for key, value in quiz.items():\n",
    "    mcq = value[\"mcq\"]\n",
    "    options = \" | \".join(\n",
    "        [\n",
    "            f\"{option}: {option_value}\"\n",
    "            for option, option_value in value[\"options\"].items()\n",
    "            ]\n",
    "        )\n",
    "    correct = value[\"correct\"]\n",
    "    quiz_table_data.append({\"MCQ\": mcq, \"Choices\": options, \"Correct\": correct})"
   ]
  },
  {
   "cell_type": "code",
   "execution_count": 30,
   "metadata": {},
   "outputs": [],
   "source": [
    "quiz=pd.DataFrame(quiz_table_data)"
   ]
  },
  {
   "cell_type": "code",
   "execution_count": null,
   "metadata": {},
   "outputs": [],
   "source": [
    "quiz.to_csv(\"machinelearning.csv\",index=False)"
   ]
  },
  {
   "cell_type": "code",
   "execution_count": null,
   "metadata": {},
   "outputs": [],
   "source": []
  }
 ],
 "metadata": {
  "kernelspec": {
   "display_name": "llm",
   "language": "python",
   "name": "python3"
  },
  "language_info": {
   "codemirror_mode": {
    "name": "ipython",
    "version": 3
   },
   "file_extension": ".py",
   "mimetype": "text/x-python",
   "name": "python",
   "nbconvert_exporter": "python",
   "pygments_lexer": "ipython3",
   "version": "3.11.5"
  }
 },
 "nbformat": 4,
 "nbformat_minor": 2
}
